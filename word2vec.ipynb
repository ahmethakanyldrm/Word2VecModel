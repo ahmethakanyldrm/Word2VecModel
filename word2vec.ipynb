{
 "cells": [
  {
   "cell_type": "code",
   "execution_count": 1,
   "id": "c830fea6-09a9-4ec1-b972-df65ddef82ca",
   "metadata": {},
   "outputs": [],
   "source": [
    "import numpy as np\n",
    "from sklearn.manifold import TSNE\n",
    "import matplotlib.pyplot as plt"
   ]
  },
  {
   "cell_type": "code",
   "execution_count": 2,
   "id": "9a07f0ff-23d3-4ab5-8f2a-9da9f1712845",
   "metadata": {},
   "outputs": [],
   "source": [
    "from gensim.models import Word2Vec"
   ]
  },
  {
   "cell_type": "code",
   "execution_count": 3,
   "id": "c03d543e-da21-483f-9263-f711e0487e79",
   "metadata": {},
   "outputs": [],
   "source": [
    "f=open(\"Desktop/Natural Language Processing/hurriyet.txt\",\"r\",encoding=\"utf8\")"
   ]
  },
  {
   "cell_type": "code",
   "execution_count": 4,
   "id": "ed94997e-ed25-4ab2-b079-974614365022",
   "metadata": {},
   "outputs": [],
   "source": [
    "text=f.read()"
   ]
  },
  {
   "cell_type": "code",
   "execution_count": 5,
   "id": "5e7db4c2-44a9-4574-b40d-7bed8d1fdb35",
   "metadata": {},
   "outputs": [],
   "source": [
    "t_list=text.split(\"\\n\")"
   ]
  },
  {
   "cell_type": "code",
   "execution_count": 6,
   "id": "b64e015d-4ef5-4bb6-8b1f-a10953803016",
   "metadata": {},
   "outputs": [],
   "source": [
    "corpus=[]\n",
    "for cumle in t_list:\n",
    "    corpus.append(cumle.split())"
   ]
  },
  {
   "cell_type": "code",
   "execution_count": 7,
   "id": "2ba506ef-5e94-46e2-8175-a7c505cf18c3",
   "metadata": {},
   "outputs": [
    {
     "data": {
      "text/plain": [
       "[['iran',\n",
       "  'devlet',\n",
       "  'televizyonu',\n",
       "  'ülkedeki',\n",
       "  'eyaletin',\n",
       "  'sinde',\n",
       "  'yapılan',\n",
       "  'reformcuları',\n",
       "  'protesto',\n",
       "  'amaçlı',\n",
       "  'yürüyüşlere',\n",
       "  'milyonlarca',\n",
       "  'kişinin',\n",
       "  'katıldığını',\n",
       "  'bildirdi'],\n",
       " ['gösterilerde',\n",
       "  'fitnecilere',\n",
       "  'ölüm',\n",
       "  'münafıklara',\n",
       "  'ölüm',\n",
       "  'abd',\n",
       "  'ye',\n",
       "  'ölüm',\n",
       "  'ingiltere',\n",
       "  'ye',\n",
       "  'ölüm',\n",
       "  'sloganları',\n",
       "  'atıldı'],\n",
       " ['dini',\n",
       "  'lider',\n",
       "  'ali',\n",
       "  'hamaney',\n",
       "  've',\n",
       "  'cumhurbaşkanı',\n",
       "  'mahmud',\n",
       "  'ahmedinejad',\n",
       "  'ı',\n",
       "  'destekleyen',\n",
       "  'iranlılar',\n",
       "  'son',\n",
       "  'olaylarda',\n",
       "  'yeğeni',\n",
       "  'öldürülen',\n",
       "  'mir',\n",
       "  'hüseyin',\n",
       "  'musevi',\n",
       "  'başta',\n",
       "  'olmak',\n",
       "  'üzere',\n",
       "  'muhalefet',\n",
       "  'liderlerini',\n",
       "  'kınadılar'],\n",
       " ['musevi', 'ye', 'ölüm', 've', 'idam', 'idam', 'sloganları', 'duyuldu'],\n",
       " ['muhalefet',\n",
       "  'liderleri',\n",
       "  'kaçtı',\n",
       "  'mı',\n",
       "  'aşure',\n",
       "  'günü',\n",
       "  'yaşanan',\n",
       "  'çatışmalarda',\n",
       "  'devlet',\n",
       "  'kaynaklarına',\n",
       "  'göre',\n",
       "  'u',\n",
       "  'terörist',\n",
       "  'olmak',\n",
       "  'üzere',\n",
       "  'kişi',\n",
       "  'ölmüştü'],\n",
       " ['den',\n",
       "  'fazla',\n",
       "  'kişinin',\n",
       "  'yaralandığı',\n",
       "  'olaylar',\n",
       "  'sırasında',\n",
       "  'en',\n",
       "  'az',\n",
       "  'kişi',\n",
       "  'tutuklanmıştı'],\n",
       " ['öte',\n",
       "  'yandan',\n",
       "  'iran',\n",
       "  'haber',\n",
       "  'ajansı',\n",
       "  'irna',\n",
       "  'muhalif',\n",
       "  'liderler',\n",
       "  'mir',\n",
       "  'hüseyin',\n",
       "  'musevi',\n",
       "  've',\n",
       "  'mehdi',\n",
       "  'kerrubi',\n",
       "  'nin',\n",
       "  'başkentten',\n",
       "  'kaçarak',\n",
       "  'ülkenin',\n",
       "  'kuzeyine',\n",
       "  'geçtiğini',\n",
       "  'ileri',\n",
       "  'sürdü',\n",
       "  'ancak',\n",
       "  'muhalefet',\n",
       "  'iddiayı',\n",
       "  'yalanladı'],\n",
       " ['hamaney',\n",
       "  'in',\n",
       "  'bir',\n",
       "  'dönem',\n",
       "  'korumalığını',\n",
       "  'yapan',\n",
       "  've',\n",
       "  'şu',\n",
       "  'anda',\n",
       "  'fransa',\n",
       "  'da',\n",
       "  'saklandığı',\n",
       "  'söylenen',\n",
       "  'bir',\n",
       "  'kişinin',\n",
       "  'muhalefete',\n",
       "  'verdiği',\n",
       "  'bilgilere',\n",
       "  'göre',\n",
       "  'münzevi',\n",
       "  'yaşamı',\n",
       "  'na',\n",
       "  'rağmen',\n",
       "  'dini',\n",
       "  'liderin',\n",
       "  'havyara',\n",
       "  'karşı',\n",
       "  'korkunç',\n",
       "  'bir',\n",
       "  'iştahı',\n",
       "  'var'],\n",
       " ['baston',\n",
       "  've',\n",
       "  'at',\n",
       "  'meraklısı',\n",
       "  'hamaney',\n",
       "  'aynı',\n",
       "  'zamanda',\n",
       "  'değerli',\n",
       "  'mücevherlerle',\n",
       "  'bezenmiş',\n",
       "  'bastonların',\n",
       "  've',\n",
       "  'cins',\n",
       "  'atların',\n",
       "  'koleksiyonunu',\n",
       "  'yapıyor'],\n",
       " ['hamaney', 'in', 'antika', 'bastonlarının', 'sayısı']]"
      ]
     },
     "execution_count": 7,
     "metadata": {},
     "output_type": "execute_result"
    }
   ],
   "source": [
    "corpus[:10]"
   ]
  },
  {
   "cell_type": "markdown",
   "id": "1551a062-0bf3-4e2b-a42b-cebea6753a7a",
   "metadata": {},
   "source": [
    "## Model Eğitimi"
   ]
  },
  {
   "cell_type": "code",
   "execution_count": 8,
   "id": "06cc43a3-34f6-4559-919f-2fe5f76d09d0",
   "metadata": {},
   "outputs": [],
   "source": [
    "model=Word2Vec(corpus,vector_size=100,window=5,min_count=5,sg=1) #modeli eğittik"
   ]
  },
  {
   "cell_type": "code",
   "execution_count": 9,
   "id": "6c4fc51c-0e49-41d7-9f5a-502e92b58001",
   "metadata": {},
   "outputs": [
    {
     "data": {
      "text/plain": [
       "array([-0.06491051, -0.25417227, -0.30421117,  0.15544514,  0.95448506,\n",
       "        0.17903091,  0.07550444,  0.5504578 , -0.10225145, -0.4194786 ,\n",
       "        0.30292597, -0.52493316, -0.11561286,  0.10819723,  0.20124812,\n",
       "        0.25115725,  0.3798997 , -0.30349392, -0.22926325, -0.7391313 ,\n",
       "       -0.07850606,  0.29345277,  0.6924608 , -0.92635566, -0.4404508 ,\n",
       "        0.5101039 , -0.3028148 ,  0.13319252, -0.5230514 ,  0.39994332,\n",
       "        0.01294819,  0.10975012,  0.04597149, -0.23170863, -0.16727792,\n",
       "       -0.12741672, -0.28586268, -0.14821564, -0.3311971 , -0.49195072,\n",
       "        0.43870965, -0.04223093,  0.14252602,  0.08133671,  0.5442761 ,\n",
       "        0.28906804, -0.41666046, -0.29226083,  0.00823305, -0.39355433,\n",
       "       -0.10662516, -0.14014222,  0.07379385, -0.10664752,  0.15960488,\n",
       "       -0.08063429, -0.14768767, -0.15457231,  0.0023997 , -0.22408718,\n",
       "        0.18896355,  0.2678193 , -0.10534786,  0.25243437, -0.01994718,\n",
       "       -0.09408337, -0.03294057,  0.09806815, -0.01500856, -0.25773406,\n",
       "       -0.14408608,  0.2801333 ,  0.15916257, -0.4080961 ,  0.43607414,\n",
       "        0.02270466, -0.01652999, -0.3327494 , -0.05290085,  0.06621326,\n",
       "        0.21230122, -0.5275101 ,  0.09010351,  0.6595343 ,  0.40891737,\n",
       "       -0.21597305,  0.4456722 ,  0.3395366 ,  0.72396827,  0.67279834,\n",
       "        0.53683406, -0.3486537 , -0.18856822,  0.14708748,  0.6584007 ,\n",
       "        0.30030522,  0.2086785 ,  0.24207188,  0.25620252,  0.0598223 ],\n",
       "      dtype=float32)"
      ]
     },
     "execution_count": 9,
     "metadata": {},
     "output_type": "execute_result"
    }
   ],
   "source": [
    "model.wv['ankara'] "
   ]
  },
  {
   "cell_type": "markdown",
   "id": "598b7d72-3208-48bb-950e-65ccf18ff7ef",
   "metadata": {},
   "source": [
    "## modelin hollandayla yakın olan kelimeleri bulmasını sağladık"
   ]
  },
  {
   "cell_type": "code",
   "execution_count": 10,
   "id": "d5e56749-d542-4203-b15e-5866e67ddaa3",
   "metadata": {},
   "outputs": [
    {
     "data": {
      "text/plain": [
       "[('danimarka', 0.8420475721359253),\n",
       " ('avusturya', 0.8123382329940796),\n",
       " ('belçika', 0.7653858065605164),\n",
       " ('almanya', 0.7535499930381775),\n",
       " ('kanada', 0.7526580095291138),\n",
       " ('finlandiya', 0.7325844764709473),\n",
       " ('avustralya', 0.7231132984161377),\n",
       " ('ispanya', 0.7225276827812195),\n",
       " ('estonya', 0.7060681581497192),\n",
       " ('lüksemburg', 0.7059690952301025)]"
      ]
     },
     "execution_count": 10,
     "metadata": {},
     "output_type": "execute_result"
    }
   ],
   "source": [
    "model.wv.most_similar('hollanda') "
   ]
  },
  {
   "cell_type": "code",
   "execution_count": 11,
   "id": "7ce86710-588a-4d54-b675-819cebae9ea4",
   "metadata": {},
   "outputs": [
    {
     "data": {
      "text/plain": [
       "[('perşembe', 0.9179185032844543),\n",
       " ('cumartesi', 0.913104236125946),\n",
       " ('salı', 0.9057130813598633),\n",
       " ('çarşamba', 0.9026883244514465),\n",
       " ('cuma', 0.8897404670715332),\n",
       " ('günü', 0.8870686292648315),\n",
       " ('akşamı', 0.8546805381774902),\n",
       " ('pazar', 0.8234137892723083),\n",
       " ('sabahı', 0.8109613060951233),\n",
       " ('gününden', 0.739665150642395)]"
      ]
     },
     "execution_count": 11,
     "metadata": {},
     "output_type": "execute_result"
    }
   ],
   "source": [
    "model.wv.most_similar('pazartesi')"
   ]
  },
  {
   "cell_type": "code",
   "execution_count": 12,
   "id": "0c19a10d-4d76-4ca4-988e-35f6549b9462",
   "metadata": {},
   "outputs": [
    {
     "data": {
      "text/plain": [
       "[('twitter', 0.7885500192642212),\n",
       " ('facebook', 0.7544019818305969),\n",
       " ('paylaşım', 0.7401643991470337),\n",
       " ('whatsapp', 0.724431574344635),\n",
       " ('internete', 0.7185050845146179),\n",
       " ('twıtter', 0.7070832848548889),\n",
       " ('sitelerine', 0.6860633492469788),\n",
       " ('internette', 0.680704653263092),\n",
       " ('etiketiyle', 0.6786379814147949),\n",
       " ('internetteki', 0.6770379543304443)]"
      ]
     },
     "execution_count": 12,
     "metadata": {},
     "output_type": "execute_result"
    }
   ],
   "source": [
    "model.wv.most_similar('youtube')"
   ]
  },
  {
   "cell_type": "code",
   "execution_count": 13,
   "id": "f1140a0a-0b2a-470c-b0c8-1eff8eb5d2ae",
   "metadata": {},
   "outputs": [],
   "source": [
    "model.save('word2vec.model')"
   ]
  },
  {
   "cell_type": "code",
   "execution_count": 14,
   "id": "33ea21a4-3797-4c49-b400-b8319f9bf239",
   "metadata": {},
   "outputs": [],
   "source": [
    "model=Word2Vec.load(\"word2vec.model\")"
   ]
  },
  {
   "cell_type": "code",
   "execution_count": 18,
   "id": "d67008e1-c543-44f8-a141-3769cc51092d",
   "metadata": {},
   "outputs": [],
   "source": [
    "def closestwords_tsneplot(model,word):\n",
    "    word_vectors=np.empty((0,100)) # fonksiyonun aldığı kelimeye yakın olan kelimelerin vektörlerini tutacak\n",
    "    word_labels=[word]\n",
    "    close_words=model.wv.most_similar(word)\n",
    "    word_vectors=np.append(word_vectors,np.array([model.wv[word]]),axis=0)\n",
    "    for w,_ in close_words: #score değerine ihtiyaç olmadığı için _ kullandık\n",
    "        word_labels.append(w)\n",
    "        word_vectors=np.append(word_vectors,np.array([model.wv[w]]),axis=0)\n",
    "        \n",
    "    tsne =TSNE(random_state=0)\n",
    "    Y=tsne.fit_transform(word_vectors)\n",
    "    \n",
    "    x_coords=Y[:,0]\n",
    "    y_coords=Y[:,1]\n",
    "    plt.scatter(x_coords,y_coords)\n",
    "    for label,x,y in zip(word_labels,x_coords,y_coords):\n",
    "        plt.annotate(label,xy=(x,y),xytext=(5,-2),textcoords='offset points')\n",
    "        \n",
    "    plt.show()"
   ]
  },
  {
   "cell_type": "code",
   "execution_count": 20,
   "id": "d96795a8-c844-4bd5-835a-154f23dab641",
   "metadata": {},
   "outputs": [
    {
     "data": {
      "image/png": "[encoded data removed]",
      "text/plain": [
       "<Figure size 432x288 with 1 Axes>"
      ]
     },
     "metadata": {
      "needs_background": "light"
     },
     "output_type": "display_data"
    }
   ],
   "source": [
    "closestwords_tsneplot(model,'ankara')"
   ]
  },
  {
   "cell_type": "code",
   "execution_count": 21,
   "id": "7138cd9b-843a-42ff-95ee-538de31732d3",
   "metadata": {},
   "outputs": [
    {
     "data": {
      "image/png": "[encoded data removed]",
      "text/plain": [
       "<Figure size 432x288 with 1 Axes>"
      ]
     },
     "metadata": {
      "needs_background": "light"
     },
     "output_type": "display_data"
    }
   ],
   "source": [
    "closestwords_tsneplot(model,'temmuz')"
   ]
  },
  {
   "cell_type": "code",
   "execution_count": 22,
   "id": "9f1f4479-c122-4499-88b8-99ebfdc99255",
   "metadata": {},
   "outputs": [
    {
     "data": {
      "image/png": "[encoded data removed]",
      "text/plain": [
       "<Figure size 432x288 with 1 Axes>"
      ]
     },
     "metadata": {
      "needs_background": "light"
     },
     "output_type": "display_data"
    }
   ],
   "source": [
    "closestwords_tsneplot(model,'mustafa')"
   ]
  },
  {
   "cell_type": "code",
   "execution_count": 23,
   "id": "a9568b66-2dd2-4968-af71-c5103a5cc757",
   "metadata": {},
   "outputs": [
    {
     "data": {
      "image/png": "[encoded data removed]",
      "text/plain": [
       "<Figure size 432x288 with 1 Axes>"
      ]
     },
     "metadata": {
      "needs_background": "light"
     },
     "output_type": "display_data"
    }
   ],
   "source": [
    "closestwords_tsneplot(model,'mu')"
   ]
  },
  {
   "cell_type": "code",
   "execution_count": null,
   "id": "7fb8d725-5881-4881-9fc1-f634e60842ee",
   "metadata": {},
   "outputs": [],
   "source": []
  }
 ],
 "metadata": {
  "kernelspec": {
   "display_name": "Python 3",
   "language": "python",
   "name": "python3"
  },
  "language_info": {
   "codemirror_mode": {
    "name": "ipython",
    "version": 3
   },
   "file_extension": ".py",
   "mimetype": "text/x-python",
   "name": "python",
   "nbconvert_exporter": "python",
   "pygments_lexer": "ipython3",
   "version": "3.8.8"
  }
 },
 "nbformat": 4,
 "nbformat_minor": 5
}
